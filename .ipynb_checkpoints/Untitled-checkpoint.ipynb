{
 "cells": [
  {
   "cell_type": "code",
   "execution_count": 1,
   "id": "ece1118b",
   "metadata": {},
   "outputs": [
    {
     "name": "stdout",
     "output_type": "stream",
     "text": [
      "4\n",
      "ghullam mujtaba\n"
     ]
    }
   ],
   "source": [
    "x = 4\n",
    "y = \"ghullam mujtaba\"\n",
    "print(x)\n",
    "print(y)"
   ]
  },
  {
   "cell_type": "code",
   "execution_count": 3,
   "id": "dfeb0827",
   "metadata": {},
   "outputs": [
    {
     "name": "stdout",
     "output_type": "stream",
     "text": [
      "17\n",
      "-1\n",
      "72\n",
      "0.8888888888888888\n"
     ]
    }
   ],
   "source": [
    "x = 8\n",
    "y = 9\n",
    "z = x+y\n",
    "n = x-y\n",
    "m = x*y\n",
    "d = x/y\n",
    "print(z)\n",
    "print(n)\n",
    "print(m)\n",
    "print(d)"
   ]
  },
  {
   "cell_type": "code",
   "execution_count": 6,
   "id": "0aaa570b",
   "metadata": {},
   "outputs": [
    {
     "name": "stdout",
     "output_type": "stream",
     "text": [
      "x is not greater then y\n"
     ]
    }
   ],
   "source": [
    "x = 20\n",
    "y = 30\n",
    "if x > y:\n",
    "    print(\"x greater then y\")\n",
    "else:\n",
    "        print(\"x is not greater then y\")"
   ]
  },
  {
   "cell_type": "code",
   "execution_count": null,
   "id": "05f9017d",
   "metadata": {},
   "outputs": [],
   "source": []
  }
 ],
 "metadata": {
  "kernelspec": {
   "display_name": "Python 3 (ipykernel)",
   "language": "python",
   "name": "python3"
  },
  "language_info": {
   "codemirror_mode": {
    "name": "ipython",
    "version": 3
   },
   "file_extension": ".py",
   "mimetype": "text/x-python",
   "name": "python",
   "nbconvert_exporter": "python",
   "pygments_lexer": "ipython3",
   "version": "3.9.7"
  }
 },
 "nbformat": 4,
 "nbformat_minor": 5
}
